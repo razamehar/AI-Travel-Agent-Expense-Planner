{
 "cells": [
  {
   "cell_type": "code",
   "id": "5f74b464",
   "metadata": {
    "ExecuteTime": {
     "end_time": "2025-06-19T08:29:29.017091Z",
     "start_time": "2025-06-19T08:29:27.906076Z"
    }
   },
   "source": [
    "from langchain_openai import ChatOpenAI\n",
    "from langchain_core.messages import HumanMessage\n",
    "from langgraph.graph import MessagesState,StateGraph, START\n",
    "from langgraph.prebuilt import ToolNode, tools_condition\n",
    "from IPython.display import Image, display\n",
    "from dotenv import load_dotenv\n",
    "from config import SYSTEM_PROMPT, PARSER, APIKeysConfig\n",
    "from custom_tools import *"
   ],
   "outputs": [],
   "execution_count": 2
  },
  {
   "cell_type": "code",
   "id": "f9405a90",
   "metadata": {
    "ExecuteTime": {
     "end_time": "2025-06-19T08:29:29.887681Z",
     "start_time": "2025-06-19T08:29:29.593617Z"
    }
   },
   "source": [
    "load_dotenv()\n",
    "llm = ChatOpenAI()\n",
    "\n",
    "tools=[Weather, TopAttractions, Accommodation, CurrencyExchange]\n",
    "llm_with_tools=llm.bind_tools(tools)"
   ],
   "outputs": [],
   "execution_count": 3
  },
  {
   "metadata": {
    "ExecuteTime": {
     "end_time": "2025-06-19T08:29:30.478350Z",
     "start_time": "2025-06-19T08:29:30.454354Z"
    }
   },
   "cell_type": "code",
   "source": [
    "def routing(state: MessagesState):\n",
    "    query = state[\"messages\"]\n",
    "\n",
    "    last_message = query[-1]\n",
    "    last_message.content += f\"\\n\\n{PARSER.get_format_instructions()}\"\n",
    "\n",
    "    input_question = [SYSTEM_PROMPT] + query\n",
    "    response = llm_with_tools.invoke(input_question)\n",
    "\n",
    "    try:\n",
    "        parsed_query = PARSER.parse(response.content)\n",
    "    except Exception as e:\n",
    "        parsed_query = f\"Parsing failed: {str(e)}\"\n",
    "\n",
    "    return {\n",
    "        \"messages\": [response],\n",
    "        \"parsed_query\": parsed_query\n",
    "    }"
   ],
   "id": "9ec0cc5232c146c4",
   "outputs": [],
   "execution_count": 4
  },
  {
   "cell_type": "code",
   "id": "2bfbedc2",
   "metadata": {
    "ExecuteTime": {
     "end_time": "2025-06-19T08:29:31.939276Z",
     "start_time": "2025-06-19T08:29:31.713743Z"
    }
   },
   "source": [
    "workflow = StateGraph(MessagesState)\n",
    "\n",
    "workflow.add_node(\"llm_routing\", routing)\n",
    "workflow.add_node(\"tools\", ToolNode(tools))\n",
    "\n",
    "workflow.add_edge(START, \"llm_routing\")\n",
    "\n",
    "workflow.add_conditional_edges(\n",
    "    \"llm_routing\",\n",
    "    tools_condition,\n",
    ")\n",
    "workflow.add_edge(\"tools\", \"llm_routing\")\n",
    "\n",
    "app = workflow.compile()\n",
    "display(Image(app.get_graph(xray=True).draw_mermaid_png()))"
   ],
   "outputs": [
    {
     "data": {
      "image/png": "[encoded data removed]",
      "text/plain": [
       "<IPython.core.display.Image object>"
      ]
     },
     "metadata": {},
     "output_type": "display_data"
    }
   ],
   "execution_count": 5
  },
  {
   "cell_type": "code",
   "id": "2006c3b1",
   "metadata": {
    "ExecuteTime": {
     "end_time": "2025-06-19T08:29:37.801432Z",
     "start_time": "2025-06-19T08:29:33.361165Z"
    }
   },
   "source": [
    "messages = [HumanMessage(content=\"Plan a nice trip to Milan for 10 days and share the budget in USD\")]\n",
    "response = app.invoke({\"messages\": messages})\n",
    "\n",
    "for m in response['messages']:\n",
    "    m.pretty_print()"
   ],
   "outputs": [
    {
     "name": "stdout",
     "output_type": "stream",
     "text": [
      "================================\u001B[1m Human Message \u001B[0m=================================\n",
      "\n",
      "Plan a nice trip to Milan for 10 days and share the budget in USD\n",
      "\n",
      "The output should be formatted as a JSON instance that conforms to the JSON schema below.\n",
      "\n",
      "As an example, for the schema {\"properties\": {\"foo\": {\"title\": \"Foo\", \"description\": \"a list of strings\", \"type\": \"array\", \"items\": {\"type\": \"string\"}}}, \"required\": [\"foo\"]}\n",
      "the object {\"foo\": [\"bar\", \"baz\"]} is a well-formatted instance of the schema. The object {\"properties\": {\"foo\": [\"bar\", \"baz\"]}} is not well-formatted.\n",
      "\n",
      "Here is the output schema:\n",
      "```\n",
      "{\"properties\": {\"city\": {\"description\": \"List of city names\", \"items\": {\"type\": \"string\"}, \"title\": \"City\", \"type\": \"array\"}, \"duration\": {\"anyOf\": [{\"type\": \"integer\"}, {\"type\": \"null\"}], \"default\": null, \"description\": \"Trip duration in days\", \"title\": \"Duration\"}, \"start_date\": {\"anyOf\": [{\"format\": \"date\", \"type\": \"string\"}, {\"type\": \"null\"}], \"default\": null, \"description\": \"Start date of the trip\", \"title\": \"Start Date\"}, \"end_date\": {\"anyOf\": [{\"format\": \"date\", \"type\": \"string\"}, {\"type\": \"null\"}], \"default\": null, \"description\": \"End date of the trip\", \"title\": \"End Date\"}, \"budget\": {\"anyOf\": [{\"type\": \"number\"}, {\"type\": \"null\"}], \"default\": null, \"description\": \"Total budget for the trip\", \"title\": \"Budget\"}, \"from_currency\": {\"default\": \"EUR\", \"description\": \"Currency to convert from (default: EUR)\", \"title\": \"From Currency\", \"type\": \"string\"}, \"to_currency\": {\"anyOf\": [{\"type\": \"string\"}, {\"type\": \"null\"}], \"default\": null, \"description\": \"Currency to convert to\", \"title\": \"To Currency\"}, \"misc\": {\"anyOf\": [{\"type\": \"string\"}, {\"type\": \"null\"}], \"default\": null, \"description\": \"Additional notes or requirements\", \"title\": \"Misc\"}, \"desc\": {\"anyOf\": [{\"type\": \"string\"}, {\"type\": \"null\"}], \"default\": null, \"description\": \"Description of the query\", \"title\": \"Desc\"}}, \"required\": [\"city\"]}\n",
      "```\n",
      "==================================\u001B[1m Ai Message \u001B[0m==================================\n",
      "Tool Calls:\n",
      "  Weather (call_MoTWmQtRmFF4GacKGUCViuFN)\n",
      " Call ID: call_MoTWmQtRmFF4GacKGUCViuFN\n",
      "  Args:\n",
      "  TopAttractions (call_sURsNsBuxFVAdk020rFS1YBA)\n",
      " Call ID: call_sURsNsBuxFVAdk020rFS1YBA\n",
      "  Args:\n",
      "  Accommodation (call_ZfHrx42ffy1xlApi0OiXg6aB)\n",
      " Call ID: call_ZfHrx42ffy1xlApi0OiXg6aB\n",
      "  Args:\n",
      "=================================\u001B[1m Tool Message \u001B[0m=================================\n",
      "Name: Weather\n",
      "\n",
      "<custom_tools.Weather object at 0x000001ED80650610>\n",
      "=================================\u001B[1m Tool Message \u001B[0m=================================\n",
      "Name: TopAttractions\n",
      "\n",
      "<custom_tools.TopAttractions object at 0x000001ED80650AF0>\n",
      "=================================\u001B[1m Tool Message \u001B[0m=================================\n",
      "Name: Accommodation\n",
      "\n",
      "<custom_tools.Accommodation object at 0x000001ED80650AC0>\n",
      "\n",
      "The output should be formatted as a JSON instance that conforms to the JSON schema below.\n",
      "\n",
      "As an example, for the schema {\"properties\": {\"foo\": {\"title\": \"Foo\", \"description\": \"a list of strings\", \"type\": \"array\", \"items\": {\"type\": \"string\"}}}, \"required\": [\"foo\"]}\n",
      "the object {\"foo\": [\"bar\", \"baz\"]} is a well-formatted instance of the schema. The object {\"properties\": {\"foo\": [\"bar\", \"baz\"]}} is not well-formatted.\n",
      "\n",
      "Here is the output schema:\n",
      "```\n",
      "{\"properties\": {\"city\": {\"description\": \"List of city names\", \"items\": {\"type\": \"string\"}, \"title\": \"City\", \"type\": \"array\"}, \"duration\": {\"anyOf\": [{\"type\": \"integer\"}, {\"type\": \"null\"}], \"default\": null, \"description\": \"Trip duration in days\", \"title\": \"Duration\"}, \"start_date\": {\"anyOf\": [{\"format\": \"date\", \"type\": \"string\"}, {\"type\": \"null\"}], \"default\": null, \"description\": \"Start date of the trip\", \"title\": \"Start Date\"}, \"end_date\": {\"anyOf\": [{\"format\": \"date\", \"type\": \"string\"}, {\"type\": \"null\"}], \"default\": null, \"description\": \"End date of the trip\", \"title\": \"End Date\"}, \"budget\": {\"anyOf\": [{\"type\": \"number\"}, {\"type\": \"null\"}], \"default\": null, \"description\": \"Total budget for the trip\", \"title\": \"Budget\"}, \"from_currency\": {\"default\": \"EUR\", \"description\": \"Currency to convert from (default: EUR)\", \"title\": \"From Currency\", \"type\": \"string\"}, \"to_currency\": {\"anyOf\": [{\"type\": \"string\"}, {\"type\": \"null\"}], \"default\": null, \"description\": \"Currency to convert to\", \"title\": \"To Currency\"}, \"misc\": {\"anyOf\": [{\"type\": \"string\"}, {\"type\": \"null\"}], \"default\": null, \"description\": \"Additional notes or requirements\", \"title\": \"Misc\"}, \"desc\": {\"anyOf\": [{\"type\": \"string\"}, {\"type\": \"null\"}], \"default\": null, \"description\": \"Description of the query\", \"title\": \"Desc\"}}, \"required\": [\"city\"]}\n",
      "```\n",
      "==================================\u001B[1m Ai Message \u001B[0m==================================\n",
      "\n",
      "### Milan Trip Details:\n",
      "\n",
      "**Current Weather in Milan**  \n",
      "- Temperature: 18°C  \n",
      "- Condition: Cloudy  \n",
      "- Humidity: 66%  \n",
      "- Wind: 6 km/h  \n",
      "\n",
      "**Top Attractions:**  \n",
      "1. Duomo di Milano — Piazza del Duomo, Milan, Italy  \n",
      "2. Galleria Vittorio Emanuele II — Piazza del Duomo, Milan, Italy  \n",
      "3. Sforza Castle — Piazza Castello, Milan, Italy  \n",
      "4. Brera Art Gallery — Via Brera, Milan, Italy  \n",
      "5. Last Supper — Piazza Santa Maria delle Grazie, Milan, Italy  \n",
      "\n",
      "**Recommended Hotels:**  \n",
      "- Hotel Principe Di Savoia (5-star, €250) — [Website](link)  \n",
      "- Bulgari Hotel Milano (5-star, €450) — [Website](link)  \n",
      "- Armani Hotel Milano (5-star, €500) — [Website](link)  \n",
      "\n",
      "**Estimated Transport Costs:**  \n",
      "- Taxi: City Center to Hotel — Approx. €30  \n",
      "- Public Transport Card: 10-Day Pass — Approx. €35  \n",
      "\n",
      "**Daily Itinerary:**  \n",
      "**Day 1:** Visit Duomo di Milano and explore nearby areas.  \n",
      "**Day 2:** Discover the Galleria Vittorio Emanuele II and enjoy shopping.  \n",
      "**Day 3:** Explore the historical Sforza Castle and its museums.  \n",
      "**Day 4:** Visit the art exhibitions at Brera Art Gallery.  \n",
      "**Day 5:** Marvel at the iconic Last Supper painting.  \n",
      "**Day 6-10:** Flexible days for further exploration and relaxation.\n",
      "\n",
      "**Cost Breakdown:**  \n",
      "- Accommodation: €1200  \n",
      "- Food: Estimated at €30 per day for 10 days = €300  \n",
      "- Transport: €65  \n",
      "- Total: €1565 (converted to USD: $1838.21)\n"
     ]
    }
   ],
   "execution_count": 6
  },
  {
   "cell_type": "code",
   "id": "047f233d",
   "metadata": {
    "ExecuteTime": {
     "end_time": "2025-06-19T08:07:21.562803Z",
     "start_time": "2025-06-19T08:07:21.552871Z"
    }
   },
   "source": [
    "for msg in response['messages']:\n",
    "    if msg.__class__.__name__ in ['HumanMessage', 'AIMessage']:\n",
    "        if msg.content.strip():\n",
    "            print(msg.content)"
   ],
   "outputs": [
    {
     "name": "stdout",
     "output_type": "stream",
     "text": [
      "Plan a nice trip to Milan for 10 days and share the budget in PKR\n",
      "\n",
      "The output should be formatted as a JSON instance that conforms to the JSON schema below.\n",
      "\n",
      "As an example, for the schema {\"properties\": {\"foo\": {\"title\": \"Foo\", \"description\": \"a list of strings\", \"type\": \"array\", \"items\": {\"type\": \"string\"}}}, \"required\": [\"foo\"]}\n",
      "the object {\"foo\": [\"bar\", \"baz\"]} is a well-formatted instance of the schema. The object {\"properties\": {\"foo\": [\"bar\", \"baz\"]}} is not well-formatted.\n",
      "\n",
      "Here is the output schema:\n",
      "```\n",
      "{\"properties\": {\"city\": {\"description\": \"List of city names\", \"items\": {\"type\": \"string\"}, \"title\": \"City\", \"type\": \"array\"}, \"duration\": {\"anyOf\": [{\"type\": \"integer\"}, {\"type\": \"null\"}], \"default\": null, \"description\": \"Trip duration in days\", \"title\": \"Duration\"}, \"start_date\": {\"anyOf\": [{\"format\": \"date\", \"type\": \"string\"}, {\"type\": \"null\"}], \"default\": null, \"description\": \"Start date of the trip\", \"title\": \"Start Date\"}, \"end_date\": {\"anyOf\": [{\"format\": \"date\", \"type\": \"string\"}, {\"type\": \"null\"}], \"default\": null, \"description\": \"End date of the trip\", \"title\": \"End Date\"}, \"budget\": {\"anyOf\": [{\"type\": \"number\"}, {\"type\": \"null\"}], \"default\": null, \"description\": \"Total budget for the trip\", \"title\": \"Budget\"}, \"from_currency\": {\"default\": \"EUR\", \"description\": \"Currency to convert from (default: EUR)\", \"title\": \"From Currency\", \"type\": \"string\"}, \"to_currency\": {\"anyOf\": [{\"type\": \"string\"}, {\"type\": \"null\"}], \"default\": null, \"description\": \"Currency to convert to\", \"title\": \"To Currency\"}, \"misc\": {\"anyOf\": [{\"type\": \"string\"}, {\"type\": \"null\"}], \"default\": null, \"description\": \"Additional notes or requirements\", \"title\": \"Misc\"}, \"desc\": {\"anyOf\": [{\"type\": \"string\"}, {\"type\": \"null\"}], \"default\": null, \"description\": \"Description of the query\", \"title\": \"Desc\"}}, \"required\": [\"city\"]}\n",
      "```\n",
      "```json\n",
      "{\n",
      "    \"city\": [\n",
      "        \"Milan\"\n",
      "    ],\n",
      "    \"duration\": 10,\n",
      "    \"start_date\": null,\n",
      "    \"end_date\": null,\n",
      "    \"budget\": null,\n",
      "    \"from_currency\": \"EUR\",\n",
      "    \"to_currency\": \"PKR\",\n",
      "    \"misc\": null,\n",
      "    \"desc\": \"Plan a trip to Milan for 10 days including weather, top attractions, accommodations, and budget breakdown.\",\n",
      "    \"weather\": {\n",
      "        \"description\": \"Partly cloudy\",\n",
      "        \"temperature\": 22,\n",
      "        \"feels_like\": 23,\n",
      "        \"min_temperature\": 18,\n",
      "        \"max_temperature\": 24\n",
      "    },\n",
      "    \"top_attractions\": [\n",
      "        {\n",
      "            \"name\": \"Duomo di Milano\",\n",
      "            \"address\": \"Piazza del Duomo, Milano, Lombardia\",\n",
      "            \"category\": \"Historic Site\"\n",
      "        },\n",
      "        {\n",
      "            \"name\": \"Galleria Vittorio Emanuele II\",\n",
      "            \"address\": \"Piazza del Duomo, 20123 Milano MI, Italy\",\n",
      "            \"category\": \"Shopping Mall\"\n",
      "        },\n",
      "        {\n",
      "            \"name\": \"Sforza Castle\",\n",
      "            \"address\": \"Piazza Castello, 20121 Milano MI, Italy\",\n",
      "            \"category\": \"Castle\"\n",
      "        }\n",
      "    ],\n",
      "    \"restaurants\": [],\n",
      "    \"hotels\": [\n",
      "        {\n",
      "            \"name\": \"Hotel Principe Di Savoia\",\n",
      "            \"address\": \"Piazza della Repubblica, 17, 20124 Milano MI, Italy\",\n",
      "            \"rating\": \"4.5\",\n",
      "            \"price\": \"EUR 300\",\n",
      "            \"booking_link\": \"https://www.dorchestercollection.com/en/milan/hotel-principe-di-savoia/\"\n",
      "        },\n",
      "        {\n",
      "            \"name\": \"Park Hyatt Milan\",\n",
      "            \"address\": \"Via Tommaso Grossi, 1, 20121 Milano MI, Italy\",\n",
      "            \"rating\": \"4.8\",\n",
      "            \"price\": \"EUR 400\",\n",
      "            \"booking_link\": \"https://www.hyatt.com/en-US/hotel/italy/park-hyatt-milan/milph\"\n",
      "        }\n",
      "    ],\n",
      "    \"transport\": {\n",
      "        \"estimated_costs\": {\n",
      "            \"taxi\": 50,\n",
      "            \"bus\": 2,\n",
      "            \"train\": 5\n",
      "        }\n",
      "    },\n",
      "    \"cost_breakdown\": {\n",
      "        \"accommodation\": \"EUR 700\",\n",
      "        \"transportation\": \"EUR 57\",\n",
      "        \"food\": \"EUR 0\",\n",
      "        \"attractions\": \"EUR 0\",\n",
      "        \"miscellaneous\": \"EUR 0\",\n",
      "        \"total\": \"EUR 757\"\n",
      "    }\n",
      "}\n",
      "```\n"
     ]
    }
   ],
   "execution_count": 8
  },
  {
   "metadata": {},
   "cell_type": "code",
   "outputs": [],
   "execution_count": null,
   "source": "",
   "id": "67b7b13ed9d06bca"
  }
 ],
 "metadata": {
  "kernelspec": {
   "display_name": "venv",
   "language": "python",
   "name": "python3"
  },
  "language_info": {
   "codemirror_mode": {
    "name": "ipython",
    "version": 3
   },
   "file_extension": ".py",
   "mimetype": "text/x-python",
   "name": "python",
   "nbconvert_exporter": "python",
   "pygments_lexer": "ipython3",
   "version": "3.9.13"
  }
 },
 "nbformat": 4,
 "nbformat_minor": 5
}
