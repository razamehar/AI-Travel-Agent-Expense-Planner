{
 "cells": [
  {
   "cell_type": "code",
   "id": "5f74b464",
   "metadata": {
    "ExecuteTime": {
     "end_time": "2025-06-20T14:05:54.361078Z",
     "start_time": "2025-06-20T14:05:54.337079Z"
    }
   },
   "source": [
    "from langchain_openai import ChatOpenAI\n",
    "from langchain_core.messages import HumanMessage, AIMessage\n",
    "from langgraph.graph import MessagesState,StateGraph, START, END\n",
    "from langgraph.prebuilt import ToolNode, tools_condition\n",
    "from IPython.display import Image, display\n",
    "from dotenv import load_dotenv\n",
    "from config import SYSTEM_PROMPT, APIKeysConfig\n",
    "from custom_tools import *\n",
    "from user_input import *"
   ],
   "outputs": [],
   "execution_count": 14
  },
  {
   "cell_type": "code",
   "id": "f9405a90",
   "metadata": {
    "ExecuteTime": {
     "end_time": "2025-06-20T14:05:55.046181Z",
     "start_time": "2025-06-20T14:05:54.928875Z"
    }
   },
   "source": [
    "load_dotenv()\n",
    "OPENAI_API_KEY = os.getenv(\"OPENAI_API_KEY\")\n",
    "llm = ChatOpenAI()\n",
    "\n",
    "tools=[get_current_weather, get_weather_forecast, get_top_attractions, get_accommodation, convert_currency, get_travel_advisory, estimate_hotel_cost, add_costs, multiply_costs, calculate_total_expense, calculate_daily_budget]\n",
    "llm_with_tools=llm.bind_tools(tools)"
   ],
   "outputs": [],
   "execution_count": 15
  },
  {
   "metadata": {
    "ExecuteTime": {
     "end_time": "2025-06-20T14:05:55.668726Z",
     "start_time": "2025-06-20T14:05:55.643268Z"
    }
   },
   "cell_type": "code",
   "source": [
    "def routing(state: MessagesState):\n",
    "    query = state[\"messages\"]\n",
    "    input_question = [SYSTEM_PROMPT] + query\n",
    "    response_text = llm_with_tools.invoke(input_question)\n",
    "    return {\n",
    "        \"messages\":[response_text]\n",
    "    }"
   ],
   "id": "9ec0cc5232c146c4",
   "outputs": [],
   "execution_count": 16
  },
  {
   "cell_type": "code",
   "id": "2bfbedc2",
   "metadata": {
    "ExecuteTime": {
     "end_time": "2025-06-20T14:05:57.158899Z",
     "start_time": "2025-06-20T14:05:56.342448Z"
    }
   },
   "source": [
    "workflow = StateGraph(MessagesState)\n",
    "\n",
    "workflow.add_node(\"llm_routing\", routing)\n",
    "workflow.add_node(\"tools\", ToolNode(tools))\n",
    "\n",
    "workflow.add_edge(START, \"llm_routing\")\n",
    "workflow.add_conditional_edges(\n",
    "    \"llm_routing\",\n",
    "    tools_condition,\n",
    ")\n",
    "workflow.add_edge(\"tools\", \"llm_routing\")\n",
    "workflow.add_edge(\"llm_routing\", END)\n",
    "\n",
    "\n",
    "app = workflow.compile()\n",
    "display(Image(app.get_graph(xray=True).draw_mermaid_png()))"
   ],
   "outputs": [
    {
     "data": {
      "image/png": "[encoded data removed]",
      "text/plain": [
       "<IPython.core.display.Image object>"
      ]
     },
     "metadata": {},
     "output_type": "display_data"
    }
   ],
   "execution_count": 17
  },
  {
   "metadata": {
    "ExecuteTime": {
     "end_time": "2025-06-20T14:06:33.548920Z",
     "start_time": "2025-06-20T14:05:58.324023Z"
    }
   },
   "cell_type": "code",
   "source": "user_query = ask_user_for_trip_info()",
   "id": "487a8a41a8b0a9a0",
   "outputs": [
    {
     "name": "stdout",
     "output_type": "stream",
     "text": [
      "Let's plan your trip! Please answer the following questions.\n",
      "\n"
     ]
    }
   ],
   "execution_count": 18
  },
  {
   "cell_type": "code",
   "id": "2006c3b1",
   "metadata": {
    "ExecuteTime": {
     "end_time": "2025-06-20T14:06:48.907987Z",
     "start_time": "2025-06-20T14:06:39.103961Z"
    }
   },
   "source": [
    "messages = [HumanMessage(content=f\"Plan a trip to with these details: {user_query}\")]\n",
    "response = app.invoke({\"messages\": messages})"
   ],
   "outputs": [],
   "execution_count": 19
  },
  {
   "metadata": {
    "ExecuteTime": {
     "end_time": "2025-06-20T14:06:52.022028Z",
     "start_time": "2025-06-20T14:06:52.003529Z"
    }
   },
   "cell_type": "code",
   "source": [
    "for m in response['messages']:\n",
    "    m.pretty_print()"
   ],
   "id": "90608895dbbd19ec",
   "outputs": [
    {
     "name": "stdout",
     "output_type": "stream",
     "text": [
      "================================\u001B[1m Human Message \u001B[0m=================================\n",
      "\n",
      "Plan a trip to with these details: city=['Rome'] duration=3 start_date=None end_date=None budget=50000.0 from_currency='EUR' to_currency='PKR' travelers=1 trip_type='solo' interests=['relaxing'] accommodation='airbnb' miscellaneous=None\n",
      "==================================\u001B[1m Ai Message \u001B[0m==================================\n",
      "Tool Calls:\n",
      "  get_current_weather (call_wzluUJ0TpPaRnAlV2B2mwudN)\n",
      " Call ID: call_wzluUJ0TpPaRnAlV2B2mwudN\n",
      "  Args:\n",
      "    city: Rome\n",
      "  get_weather_forecast (call_lIiCrvLBCPw2GrutqFHjQkTU)\n",
      " Call ID: call_lIiCrvLBCPw2GrutqFHjQkTU\n",
      "  Args:\n",
      "    city: Rome\n",
      "    days: 3\n",
      "  get_top_attractions (call_ybUF2TX45Bb6R70ZW3vefFA5)\n",
      " Call ID: call_ybUF2TX45Bb6R70ZW3vefFA5\n",
      "  Args:\n",
      "    city: Rome\n",
      "  get_accommodation (call_aRpv4RqAndv1sqUwbh93oNkR)\n",
      " Call ID: call_aRpv4RqAndv1sqUwbh93oNkR\n",
      "  Args:\n",
      "    city: Rome\n",
      "  get_travel_advisory (call_FtUCfRKmqgdqARwfgO0wITdD)\n",
      " Call ID: call_FtUCfRKmqgdqARwfgO0wITdD\n",
      "  Args:\n",
      "    city: Rome\n",
      "=================================\u001B[1m Tool Message \u001B[0m=================================\n",
      "Name: get_current_weather\n",
      "\n",
      "{\"location\": \"Rome\", \"country\": \"Italy\", \"temperature_c\": 34.1, \"condition\": \"Sunny\", \"humidity\": 34, \"wind_kph\": 18.0}\n",
      "=================================\u001B[1m Tool Message \u001B[0m=================================\n",
      "Name: get_weather_forecast\n",
      "\n",
      "{\"location\": \"Rome\", \"country\": \"Italy\", \"forecast\": [{\"date\": \"2025-06-20\", \"max_temp_c\": 34.5, \"min_temp_c\": 19.3, \"condition\": \"Patchy rain nearby\", \"chance_of_rain\": 65}, {\"date\": \"2025-06-21\", \"max_temp_c\": 34.7, \"min_temp_c\": 21.3, \"condition\": \"Patchy rain nearby\", \"chance_of_rain\": 88}, {\"date\": \"2025-06-22\", \"max_temp_c\": 33.0, \"min_temp_c\": 20.1, \"condition\": \"Patchy rain nearby\", \"chance_of_rain\": 85}]}\n",
      "=================================\u001B[1m Tool Message \u001B[0m=================================\n",
      "Name: get_top_attractions\n",
      "\n",
      "[[\"Colosseum (Colosseo)\", \"Piazza del Colosseo 1 (Via dei Fori Imperiali), 00184 Roma Lazio\"], [\"Trevi Fountain (Fontana di Trevi)\", \"Piazza di Trevi, 00187 Roma Lazio\"], [\"Pantheon\", \"Piazza della Rotonda (Via Palombella), 00186 Roma Lazio\"], [\"Laghetto dell'EUR\", \"00144 Roma Lazio\"], [\"Piazza della Rotonda\", \"Via della Rotonda 25-26, 00186 Roma Lazio\"], [\"Piazza del Colosseo\", \"Piazza del Colosseo, 00184 Roma Lazio\"]]\n",
      "=================================\u001B[1m Tool Message \u001B[0m=================================\n",
      "Name: get_accommodation\n",
      "\n",
      "[\"The 15 Best Hotels in Rome, Italy [Includes Area Guide] - Upgraded Points - The 15 Best Hotels in Rome. Whatever your travel budget, and wherever you intend to stay, there is a wide range of hotels and accommodations to suit every kind of traveler in Rome. Here are some of the very best: The St. Regis Hotel. The St. Regis Hotel Rome is a sophisticated hotel situated right in the heart of the historical center of the ...\", \"The 20 Best Hotels In Rome 2025 - Forbes - Best Value Hotel In Rome: CitizenM Rome Isola Tiberina Hotel Best Hotel For Couples In Rome: Hotel Eden, Dorchester Collection Best Hotel For Families In Rome: Villa Agrippina, A Grand Melià Hotel\", \"42 Best Hotels in Rome (2025) - Condé Nast Traveler - The hotel keeps things fresh by refurbishing at least ten rooms per year, but two years of major renovations mean there's now a completely new restaurant, cocktail bar, and seventh floor terrace.\", \"Rome Hotels Starting From USD101 - Compare 10,174 Hotels In Rome Deals ... - Book last minute hotel or find great hotel deals such as Marcella Royal Hotel - Rooftop Garden for US$122 per night. Save more on cheap hotels with rates from as low as US$122 per night. Use the filters to view hotels & accommodation in a specific area of Rome. Select price range, hotel themes, accommodation type, facilities, brand, or hotel ...\"]\n",
      "=================================\u001B[1m Tool Message \u001B[0m=================================\n",
      "Name: get_travel_advisory\n",
      "\n",
      "[\"Italy Travel Advisory - Travel.State.Gov > Travel Advisories > Italy Travel Advisory . Congressional Liaison; Special Issuance Agency; Legal Resources; U.S. Passports; International Travel; ... Sporting and cultural events; Schools ; Airports ; Public areas ; If you decide to travel to Italy: ... 00187 Rome, Italy. Telephone +(39) 06-4674-1. Emergency +(39) 06-4674-1 ...\", \"Is Rome Safe for Travel RIGHT NOW? (2025 Safety Rating) - Abroad - Spiked food or drink is a frequent scam in Rome, particularly around Termini station, tourist areas such as the Colosseum, and in bars and cafes near Campo Dei Fiori and Piazza Navona. This scam aims to steal money from the victim. In some cases, victims have even been sexually assaulted.\", \"Is Rome Safe to Visit in 2025? (Expert Opinion & Safety Tips) - The State Department does put Italy under a Level 2 travel advisory, citing the risk of terrorism. There is an elevated risk of terrorism throughout Europe, and it makes sense that the capital of Italy, Rome, might be a target. ... Taxi drivers are common sources of scams in Rome, like elsewhere. Make sure that you are taking an authorized taxi ...\", \"Is Rome, Italy Dangerous? Unveiling the Truth Behind the Myths - Is Rome, Italy Dangerous? Unveiling the Truth Behind the Myths. When considering travel in Rome, it's not uncommon to stumble upon a plethora of opinions regarding Rome safety. Some portray the city as a vibrant hub of history and culture, while others warn travelers about crime and scams lurking at every corner.\"]\n",
      "==================================\u001B[1m Ai Message \u001B[0m==================================\n",
      "\n",
      "### 1. **Current Weather and Forecast**\n",
      "- **Current Weather in Rome**: 34.1°C, Sunny, Humidity 34%, Wind Speed 18.0 km/h.\n",
      "- **Short-term Forecast**:\n",
      "  - **June 20**: Max 34.5°C, Min 19.3°C, Patchy rain nearby, 65% chance of rain.\n",
      "  - **June 21**: Max 34.7°C, Min 21.3°C, Patchy rain nearby, 88% chance of rain.\n",
      "  - **June 22**: Max 33.0°C, Min 20.1°C, Patchy rain nearby, 85% chance of rain.\n",
      "\n",
      "### 2. **Top Attractions and Points of Interest**\n",
      "- **Colosseum (Colosseo)**: Piazza del Colosseo 1 (Via dei Fori Imperiali), 00184 Roma Lazio\n",
      "- **Trevi Fountain (Fontana di Trevi)**: Piazza di Trevi, 00187 Roma Lazio\n",
      "- **Pantheon**: Piazza della Rotonda (Via Palombella), 00186 Roma Lazio\n",
      "- **Laghetto dell'EUR**: 00144 Roma Lazio\n",
      "- **Piazza della Rotonda**: Via della Rotonda 25-26, 00186 Roma Lazio\n",
      "- **Piazza del Colosseo**: Piazza del Colosseo, 00184 Roma Lazio\n",
      "\n",
      "### 3. **Accommodation Recommendations**\n",
      "- **Top Hotel Suggestions**:\n",
      "  1. **The St. Regis Hotel**: Rome historical center.\n",
      "  2. **CitizenM Rome Isola Tiberina Hotel**: Best Value.\n",
      "  3. **Hotel Eden, Dorchester Collection**: Best for Couples.\n",
      "- **Find More Options**: Explore a range of accommodations with various prices and features.\n",
      "\n",
      "### 4. **Travel Advisory and Local Insights**\n",
      "- **Italy Travel Advisory**: Check the official travel advisory for Italy.\n",
      "- **Safety Reminder**: Beware of spiked food/drink scams in tourist areas.\n",
      "\n",
      "### 5. **Estimated Budget Planning**\n",
      "- **Hotel Cost**: Varies based on selection.\n",
      "- **Daily Expenses**: Include food, transportation, tickets, etc.\n",
      "- **Total Trip Cost**: Calculate based on expenses and duration.\n",
      "- **Average Daily Budget**: Plan accordingly for a comfortable trip.\n",
      "\n",
      "### Currency Conversion\n",
      "- **Budget Conversion**: EUR 50,000 = PKR equivalent.\n",
      "\n",
      "Enjoy your relaxing solo trip to Rome! If you need more details or specific assistance, feel free to ask.\n"
     ]
    }
   ],
   "execution_count": 20
  },
  {
   "metadata": {
    "ExecuteTime": {
     "end_time": "2025-06-20T14:01:47.371125Z",
     "start_time": "2025-06-20T14:01:47.359334Z"
    }
   },
   "cell_type": "code",
   "source": "",
   "id": "111fe6c403a42dba",
   "outputs": [],
   "execution_count": null
  }
 ],
 "metadata": {
  "kernelspec": {
   "display_name": "venv",
   "language": "python",
   "name": "python3"
  },
  "language_info": {
   "codemirror_mode": {
    "name": "ipython",
    "version": 3
   },
   "file_extension": ".py",
   "mimetype": "text/x-python",
   "name": "python",
   "nbconvert_exporter": "python",
   "pygments_lexer": "ipython3",
   "version": "3.9.13"
  }
 },
 "nbformat": 4,
 "nbformat_minor": 5
}
