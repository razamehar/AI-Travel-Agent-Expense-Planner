{
 "cells": [
  {
   "cell_type": "code",
   "id": "5f74b464",
   "metadata": {
    "ExecuteTime": {
     "end_time": "2025-06-20T15:24:42.031954Z",
     "start_time": "2025-06-20T15:24:41.027665Z"
    }
   },
   "source": [
    "from langchain_openai import ChatOpenAI\n",
    "from langchain_core.messages import HumanMessage, AIMessage\n",
    "from langgraph.graph import MessagesState,StateGraph, START, END\n",
    "from langgraph.prebuilt import ToolNode, tools_condition\n",
    "from IPython.display import Image, display\n",
    "from dotenv import load_dotenv\n",
    "from config import SYSTEM_PROMPT, APIKeysConfig\n",
    "from custom_tools import *\n",
    "from user_input import *"
   ],
   "outputs": [],
   "execution_count": 1
  },
  {
   "cell_type": "code",
   "id": "f9405a90",
   "metadata": {
    "ExecuteTime": {
     "end_time": "2025-06-20T15:24:42.331171Z",
     "start_time": "2025-06-20T15:24:42.038910Z"
    }
   },
   "source": [
    "load_dotenv()\n",
    "OPENAI_API_KEY = os.getenv(\"OPENAI_API_KEY\")\n",
    "llm = ChatOpenAI()\n",
    "\n",
    "tools=[get_current_weather, get_weather_forecast, get_top_attractions, get_accommodation, convert_currency, get_travel_advisory, estimate_hotel_cost, add_costs, multiply_costs, calculate_total_expense, calculate_daily_budget]\n",
    "llm_with_tools=llm.bind_tools(tools)"
   ],
   "outputs": [],
   "execution_count": 2
  },
  {
   "metadata": {
    "ExecuteTime": {
     "end_time": "2025-06-20T15:24:42.533043Z",
     "start_time": "2025-06-20T15:24:42.518502Z"
    }
   },
   "cell_type": "code",
   "source": [
    "def routing(state: MessagesState):\n",
    "    query = state[\"messages\"]\n",
    "    input_question = [SYSTEM_PROMPT] + query\n",
    "    response_text = llm_with_tools.invoke(input_question)\n",
    "    return {\n",
    "        \"messages\":[response_text]\n",
    "    }"
   ],
   "id": "9ec0cc5232c146c4",
   "outputs": [],
   "execution_count": 3
  },
  {
   "cell_type": "code",
   "id": "2bfbedc2",
   "metadata": {
    "ExecuteTime": {
     "end_time": "2025-06-20T15:24:42.751435Z",
     "start_time": "2025-06-20T15:24:42.538058Z"
    }
   },
   "source": [
    "workflow = StateGraph(MessagesState)\n",
    "\n",
    "workflow.add_node(\"llm_routing\", routing)\n",
    "workflow.add_node(\"tools\", ToolNode(tools))\n",
    "\n",
    "workflow.add_edge(START, \"llm_routing\")\n",
    "workflow.add_conditional_edges(\n",
    "    \"llm_routing\",\n",
    "    tools_condition,\n",
    ")\n",
    "workflow.add_edge(\"tools\", \"llm_routing\")\n",
    "workflow.add_edge(\"llm_routing\", END)\n",
    "\n",
    "\n",
    "app = workflow.compile()\n",
    "display(Image(app.get_graph(xray=True).draw_mermaid_png()))"
   ],
   "outputs": [
    {
     "data": {
      "image/png": "[encoded data removed]",
      "text/plain": [
       "<IPython.core.display.Image object>"
      ]
     },
     "metadata": {},
     "output_type": "display_data"
    }
   ],
   "execution_count": 4
  },
  {
   "metadata": {
    "ExecuteTime": {
     "end_time": "2025-06-20T15:25:09.967459Z",
     "start_time": "2025-06-20T15:24:42.785850Z"
    }
   },
   "cell_type": "code",
   "source": "user_query = ask_user_for_trip_info()",
   "id": "487a8a41a8b0a9a0",
   "outputs": [
    {
     "name": "stdout",
     "output_type": "stream",
     "text": [
      "Let's plan your trip! Please answer the following questions.\n",
      "\n"
     ]
    }
   ],
   "execution_count": 5
  },
  {
   "cell_type": "code",
   "id": "2006c3b1",
   "metadata": {
    "ExecuteTime": {
     "end_time": "2025-06-20T15:25:21.335882Z",
     "start_time": "2025-06-20T15:25:10.001725Z"
    }
   },
   "source": [
    "messages = [HumanMessage(content=f\"Plan a trip to with these details: {user_query}\")]\n",
    "response = app.invoke({\"messages\": messages})"
   ],
   "outputs": [],
   "execution_count": 6
  },
  {
   "metadata": {
    "ExecuteTime": {
     "end_time": "2025-06-20T15:25:21.381699Z",
     "start_time": "2025-06-20T15:25:21.371697Z"
    }
   },
   "cell_type": "code",
   "source": [
    "for m in response['messages']:\n",
    "    m.pretty_print()"
   ],
   "id": "90608895dbbd19ec",
   "outputs": [
    {
     "name": "stdout",
     "output_type": "stream",
     "text": [
      "================================\u001B[1m Human Message \u001B[0m=================================\n",
      "\n",
      "Plan a trip to with these details: city=['Berlin'] duration=5 start_date=None end_date=None from_currency='EUR' to_currency='PKR' travelers=1 trip_type='adventure' interests=['nightlife'] accommodation='airbnb' miscellaneous=None\n",
      "==================================\u001B[1m Ai Message \u001B[0m==================================\n",
      "Tool Calls:\n",
      "  get_current_weather (call_YZeLMsMLpiAtuoNVNBXvqkeP)\n",
      " Call ID: call_YZeLMsMLpiAtuoNVNBXvqkeP\n",
      "  Args:\n",
      "    city: Berlin\n",
      "  get_weather_forecast (call_o5gK0G2ATCUwOMB4u69lX7dV)\n",
      " Call ID: call_o5gK0G2ATCUwOMB4u69lX7dV\n",
      "  Args:\n",
      "    city: Berlin\n",
      "  get_top_attractions (call_u0XtcRWwAiHDgFe0iX9wK5HZ)\n",
      " Call ID: call_u0XtcRWwAiHDgFe0iX9wK5HZ\n",
      "  Args:\n",
      "    city: Berlin\n",
      "  get_accommodation (call_OLBXMp1Ap2CPOyZwdmg00TIS)\n",
      " Call ID: call_OLBXMp1Ap2CPOyZwdmg00TIS\n",
      "  Args:\n",
      "    city: Berlin\n",
      "  get_travel_advisory (call_LTOL11dESwvELNYvJbLAbNDh)\n",
      " Call ID: call_LTOL11dESwvELNYvJbLAbNDh\n",
      "  Args:\n",
      "    city: Berlin\n",
      "=================================\u001B[1m Tool Message \u001B[0m=================================\n",
      "Name: get_current_weather\n",
      "\n",
      "{\"location\": \"Berlin\", \"country\": \"Germany\", \"temperature_c\": 24.1, \"condition\": \"Sunny\", \"humidity\": 31, \"wind_kph\": 13.3}\n",
      "=================================\u001B[1m Tool Message \u001B[0m=================================\n",
      "Name: get_weather_forecast\n",
      "\n",
      "{\"location\": \"Berlin\", \"country\": \"Germany\", \"forecast\": [{\"date\": \"2025-06-20\", \"max_temp_c\": 24.1, \"min_temp_c\": 11.4, \"condition\": \"Sunny\", \"chance_of_rain\": 0}, {\"date\": \"2025-06-21\", \"max_temp_c\": 27.8, \"min_temp_c\": 13.4, \"condition\": \"Sunny\", \"chance_of_rain\": 0}, {\"date\": \"2025-06-22\", \"max_temp_c\": 32.0, \"min_temp_c\": 17.7, \"condition\": \"Sunny\", \"chance_of_rain\": 0}]}\n",
      "=================================\u001B[1m Tool Message \u001B[0m=================================\n",
      "Name: get_top_attractions\n",
      "\n",
      "[[\"Brandenburg Gate (Brandenburger Tor)\", \"Str. des 17. Juni (Platz des 18. März), 10117 Berlin\"], [\"Reichstagsgebäude (Reichstag)\", \"Platz Der Republik 1, 10557 Berlin\"], [\"East Side Gallery\", \"10243 Berlin\"], [\"Alexanderplatz\", \"Alexanderplatz 1 (Grunerstr.), 10178 Berlin\"], [\"Charlottenburg Palace (Schloss Charlottenburg)\", \"Spandauerdamm 10-22, 14059 Berlin\"], [\"Reichstag Dome (Reichstagskuppel)\", \"Platz der Republik 1, 11011 Berlin\"], [\"Spreepark Berlin / Kulturpark Plänterwald\", \"Kiehnwerderallee 1-3 (Wasserweg), 12437 Berlin\"], [\"neues ResistToExist-Gelände\", \"Berlin\"]]\n",
      "=================================\u001B[1m Tool Message \u001B[0m=================================\n",
      "Name: get_accommodation\n",
      "\n",
      "[\"Berlin Hotels Starting From USD40 - Compare 2,057 Hotels In Berlin ... - Compare 2,057 Berlin hotel deals in 2025 Hotel room prices starting at USD40 Real user reviews and latest hotel photos Book on Wego.com now! ... Victor's Residenz Hotel Berlin Mitte. Pankow. 7.9 2123 reviews. Get rates # 1. Meininger Hotel Berlin Mitte Humboldthaus.\", \"10 Best Berlin Hotels, Germany (From $46) - Booking.com - Great savings on hotels in Berlin, Germany online. Good availability and great rates. Read hotel reviews and choose the best hotel deal for your stay.\", \"Berlin hotels & apartments, all accommodations in Berlin - The Circus Apartments Berlin hotel is quietly located only 600 metres from Zionskirchplatz and offers views of the city. All guests can enjoy Wi-Fi in public areas and access to a fitness area. From US$ 288 Book Now Motel One Berlin-Alexanderplatz. Grunerstrasse 11, Berlin, Germany View map.\", \"16 Best Hotels in Berlin. Hotels from $31/night - KAYAK - The average price of a double room in Berlin is $203 per night. In the last 3 days, KAYAK found great deals as cheap as $283 per night. Expect to pay around $221/night for a 4-star hotel in Berlin and $589/night for a 5-star, with prices varying by date.\"]\n",
      "=================================\u001B[1m Tool Message \u001B[0m=================================\n",
      "Name: get_travel_advisory\n",
      "\n",
      "[\"How Safe Is It to Travel to Berlin: Essential Tips for a Worry-Free Visit - Stay Informed: Check local news for any safety alerts or events that might affect your visit. Emergency Contacts. In case of emergencies, remember these contacts: Police: 110; Fire Department: 112; Emergency Medical Services: 112; Cultural Considerations. Understanding cultural norms enhances your safety. Germans value privacy and personal space.\", \"Is Berlin Safe to Visit? (2025) | Travelling Mandala - Berlin Travel Warnings. The safety advisory for Germany, including Berlin, is Level 2. Level 2 means that travellers in Germany should exercise increased precautions. ... How to Avoid Scams in Berlin. Berlin is a safe city and there are not that many scams targeting foreign tourists. The main problems are pickpocketing in crowded places, so ...\", \"Is Berlin Safe? (Tips + Avoiding Crime in 2025) - The Broke Backpacker - Berlin may be safe city in a safe country, but that doesn't mean you should be walking around without a care in the world. It pays to know some of the do's and don't's in the German capital, so I'm sharing with you some of the very best safety tips for travelling to Berlin so you can travel smart.\", \"Is Berlin, Germany Safe to Visit? Unveiling the Truth Behind the Myths - Understanding Berlin Safety. Berlin safety is a multifaceted topic. Like any major city, it has areas that are safer than others. However, on the whole, Berlin is often considered one of the safer cities in Europe. The city is known for its open-mindedness and tolerance, which extends to its approach to tourism.\"]\n",
      "==================================\u001B[1m Ai Message \u001B[0m==================================\n",
      "Tool Calls:\n",
      "  estimate_hotel_cost (call_Clc4vz2jgdXgTLWUy8mNXbyv)\n",
      " Call ID: call_Clc4vz2jgdXgTLWUy8mNXbyv\n",
      "  Args:\n",
      "    price_per_night: 203\n",
      "    total_days: 5\n",
      "=================================\u001B[1m Tool Message \u001B[0m=================================\n",
      "Name: estimate_hotel_cost\n",
      "\n",
      "1015.0\n",
      "==================================\u001B[1m Ai Message \u001B[0m==================================\n",
      "Tool Calls:\n",
      "  calculate_total_expense (call_NoTW8ZP0tpkrgD5DKv1A62x3)\n",
      " Call ID: call_NoTW8ZP0tpkrgD5DKv1A62x3\n",
      "  Args:\n",
      "    costs: [1015, 50]\n",
      "=================================\u001B[1m Tool Message \u001B[0m=================================\n",
      "Name: calculate_total_expense\n",
      "\n",
      "1065.0\n",
      "==================================\u001B[1m Ai Message \u001B[0m==================================\n",
      "Tool Calls:\n",
      "  convert_currency (call_3kNPGNHAf9ZHKgAuMa13rkso)\n",
      " Call ID: call_3kNPGNHAf9ZHKgAuMa13rkso\n",
      "  Args:\n",
      "    amount: 1065\n",
      "    from_currency: EUR\n",
      "    to_currency: PKR\n",
      "=================================\u001B[1m Tool Message \u001B[0m=================================\n",
      "Name: convert_currency\n",
      "\n",
      "1065.0 EUR = 347129.29 PKR\n",
      "==================================\u001B[1m Ai Message \u001B[0m==================================\n",
      "Tool Calls:\n",
      "  calculate_daily_budget (call_MU8p3NWlyAqxoAfSFtuWquED)\n",
      " Call ID: call_MU8p3NWlyAqxoAfSFtuWquED\n",
      "  Args:\n",
      "    total_cost: 347129.29\n",
      "    days: 5\n",
      "=================================\u001B[1m Tool Message \u001B[0m=================================\n",
      "Name: calculate_daily_budget\n",
      "\n",
      "69425.858\n",
      "==================================\u001B[1m Ai Message \u001B[0m==================================\n",
      "\n",
      "### Trip Plan for Berlin 🌃\n",
      "\n",
      "**Weather:**\n",
      "- Now: 24.1°C, Sunny\n",
      "- Next 3 days:\n",
      "  - June 20: Max 24.1°C, Min 11.4°C, 0% chance of rain\n",
      "  - June 21: Max 27.8°C, Min 13.4°C, 0% chance of rain\n",
      "  - June 22: Max 32.0°C, Min 17.7°C, 0% chance of rain\n",
      "\n",
      "**Top Attractions:**\n",
      "1. Brandenburg Gate (Brandenburger Tor) - Str. des 17. Juni (Platz des 18. März), 10117 Berlin\n",
      "2. Reichstag Building (Reichstagsgebäude) - Platz Der Republik 1, 10557 Berlin\n",
      "3. East Side Gallery - 10243 Berlin\n",
      "4. Alexanderplatz - Alexanderplatz 1 (Grunerstr.), 10178 Berlin\n",
      "5. Charlottenburg Palace (Schloss Charlottenburg) - Spandauerdamm 10-22, 14059 Berlin\n",
      "\n",
      "**Accommodation:**\n",
      "- Average Airbnb price: $203 per night\n",
      "\n",
      "**Travel Advisory:**\n",
      "- Berlin is known for its safety. Nevertheless, it's always wise to stay cautious and informed about your surroundings.\n",
      "\n",
      "**Budget Summary:**\n",
      "- Hotel cost for 5 nights: $1015\n",
      "- Estimated daily expenses (food, transport, activities): $50 × 5 = $250\n",
      "- Total estimated trip cost: $1065\n",
      "- Converted to PKR: 347,129 PKR\n",
      "- Average daily budget: 69,426 PKR per day\n",
      "\n",
      "Your budget is more than sufficient for an adventurous trip to Berlin. Enjoy exploring the nightlife and have a great adventure! 🌟🎉\n"
     ]
    }
   ],
   "execution_count": 7
  }
 ],
 "metadata": {
  "kernelspec": {
   "display_name": "venv",
   "language": "python",
   "name": "python3"
  },
  "language_info": {
   "codemirror_mode": {
    "name": "ipython",
    "version": 3
   },
   "file_extension": ".py",
   "mimetype": "text/x-python",
   "name": "python",
   "nbconvert_exporter": "python",
   "pygments_lexer": "ipython3",
   "version": "3.9.13"
  }
 },
 "nbformat": 4,
 "nbformat_minor": 5
}
